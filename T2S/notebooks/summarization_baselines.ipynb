{
 "cells": [
  {
   "cell_type": "code",
   "execution_count": 45,
   "id": "thrown-symbol",
   "metadata": {},
   "outputs": [],
   "source": [
    "# Essentials\n",
    "import pandas as pd\n",
    "from utils.data_utils import get_root_path\n",
    "import json\n",
    "\n",
    "# Visualization\n",
    "import matplotlib.pyplot as plt\n",
    "import pprint"
   ]
  },
  {
   "cell_type": "code",
   "execution_count": 68,
   "id": "random-degree",
   "metadata": {},
   "outputs": [],
   "source": [
    "pp = pprint.PrettyPrinter(indent=4, width=100)"
   ]
  },
  {
   "cell_type": "code",
   "execution_count": 79,
   "id": "wrong-frank",
   "metadata": {},
   "outputs": [
    {
     "name": "stdout",
     "output_type": "stream",
     "text": [
      "C:\\Users\\HP\\Desktop\\Tese\\Dissertacao\\Pratica\\Tweet2Story\\utils/../results/mean_sum_baselines_fscores.csv\n",
      "C:\\Users\\HP\\Desktop\\Tese\\Dissertacao\\Pratica\\Tweet2Story\\utils/../results/sum_baselines_ext.json\n",
      "C:\\Users\\HP\\Desktop\\Tese\\Dissertacao\\Pratica\\Tweet2Story\\utils/../data/signal1M_tweetir_processed.csv\n"
     ]
    }
   ],
   "source": [
    "# working directory\n",
    "root_dir = get_root_path()\n",
    "results_dir = root_dir + \"/results/\"\n",
    "data_file = \"signal1M_tweetir_processed.csv\"\n",
    "results_file = \"mean_sum_baselines_fscores.csv\"\n",
    "json_results_file = \"sum_baselines_ext.json\"\n",
    "path_to_data = results_dir + results_file\n",
    "print(path_to_data)\n",
    "path_to_json = results_dir + json_results_file\n",
    "print(path_to_json)\n",
    "path_to_datafile = root_dir + \"/data/\" + data_file\n",
    "print(path_to_datafile)"
   ]
  },
  {
   "cell_type": "code",
   "execution_count": 80,
   "id": "tired-burke",
   "metadata": {},
   "outputs": [
    {
     "data": {
      "text/html": [
       "<div>\n",
       "<style scoped>\n",
       "    .dataframe tbody tr th:only-of-type {\n",
       "        vertical-align: middle;\n",
       "    }\n",
       "\n",
       "    .dataframe tbody tr th {\n",
       "        vertical-align: top;\n",
       "    }\n",
       "\n",
       "    .dataframe thead th {\n",
       "        text-align: right;\n",
       "    }\n",
       "</style>\n",
       "<table border=\"1\" class=\"dataframe\">\n",
       "  <thead>\n",
       "    <tr style=\"text-align: right;\">\n",
       "      <th></th>\n",
       "      <th>topic</th>\n",
       "      <th>tweetID</th>\n",
       "      <th>relevancy</th>\n",
       "      <th>tweets.created_at</th>\n",
       "      <th>tweets.full_text</th>\n",
       "      <th>tweets.hashtags</th>\n",
       "      <th>tweets.user_mentions</th>\n",
       "      <th>tweets.urls</th>\n",
       "      <th>tweets.user_name</th>\n",
       "      <th>tweets.followers_count</th>\n",
       "      <th>topics.content</th>\n",
       "      <th>topics.title</th>\n",
       "      <th>topics.media-type</th>\n",
       "      <th>topics.source</th>\n",
       "      <th>topics.published</th>\n",
       "    </tr>\n",
       "  </thead>\n",
       "  <tbody>\n",
       "    <tr>\n",
       "      <th>0</th>\n",
       "      <td>00ecb565-8dcb-443e-875c-71babdce2269</td>\n",
       "      <td>638727826393444352</td>\n",
       "      <td>1</td>\n",
       "      <td>01-09-2015 14:59:15+0000</td>\n",
       "      <td>Police say woman was driving drunk with kids i...</td>\n",
       "      <td>[]</td>\n",
       "      <td>[]</td>\n",
       "      <td>['http://www.recordonline.com/article/20150901...</td>\n",
       "      <td>recordonline</td>\n",
       "      <td>41255</td>\n",
       "      <td>A would-be hit-and-run driver who allegedly st...</td>\n",
       "      <td>VIDEO:Good Samaritans Stop Alleged Hit-and-Run...</td>\n",
       "      <td>News</td>\n",
       "      <td>NBCNews.com</td>\n",
       "      <td>20-09-2015 23:52:37+0000</td>\n",
       "    </tr>\n",
       "  </tbody>\n",
       "</table>\n",
       "</div>"
      ],
      "text/plain": [
       "                                  topic             tweetID  relevancy  \\\n",
       "0  00ecb565-8dcb-443e-875c-71babdce2269  638727826393444352          1   \n",
       "\n",
       "          tweets.created_at  \\\n",
       "0  01-09-2015 14:59:15+0000   \n",
       "\n",
       "                                    tweets.full_text tweets.hashtags  \\\n",
       "0  Police say woman was driving drunk with kids i...              []   \n",
       "\n",
       "  tweets.user_mentions                                        tweets.urls  \\\n",
       "0                   []  ['http://www.recordonline.com/article/20150901...   \n",
       "\n",
       "  tweets.user_name  tweets.followers_count  \\\n",
       "0     recordonline                   41255   \n",
       "\n",
       "                                      topics.content  \\\n",
       "0  A would-be hit-and-run driver who allegedly st...   \n",
       "\n",
       "                                        topics.title topics.media-type  \\\n",
       "0  VIDEO:Good Samaritans Stop Alleged Hit-and-Run...              News   \n",
       "\n",
       "  topics.source          topics.published  \n",
       "0   NBCNews.com  20-09-2015 23:52:37+0000  "
      ]
     },
     "execution_count": 80,
     "metadata": {},
     "output_type": "execute_result"
    }
   ],
   "source": [
    "tweetir_data = pd.read_csv(path_to_datafile)\n",
    "tweetir_data.head(1)"
   ]
  },
  {
   "cell_type": "code",
   "execution_count": 48,
   "id": "funded-blues",
   "metadata": {},
   "outputs": [],
   "source": [
    "with open(path_to_json) as f:\n",
    "    baseline_data = json.load(f)"
   ]
  },
  {
   "cell_type": "code",
   "execution_count": 8,
   "id": "concerned-trial",
   "metadata": {},
   "outputs": [
    {
     "data": {
      "text/html": [
       "<div>\n",
       "<style scoped>\n",
       "    .dataframe tbody tr th:only-of-type {\n",
       "        vertical-align: middle;\n",
       "    }\n",
       "\n",
       "    .dataframe tbody tr th {\n",
       "        vertical-align: top;\n",
       "    }\n",
       "\n",
       "    .dataframe thead th {\n",
       "        text-align: right;\n",
       "    }\n",
       "</style>\n",
       "<table border=\"1\" class=\"dataframe\">\n",
       "  <thead>\n",
       "    <tr style=\"text-align: right;\">\n",
       "      <th></th>\n",
       "      <th>baseline</th>\n",
       "      <th>rouge1</th>\n",
       "      <th>rouge2</th>\n",
       "      <th>rougeL</th>\n",
       "      <th>rougeLsum</th>\n",
       "    </tr>\n",
       "  </thead>\n",
       "  <tbody>\n",
       "    <tr>\n",
       "      <th>0</th>\n",
       "      <td>LexRank</td>\n",
       "      <td>0.225</td>\n",
       "      <td>0.049</td>\n",
       "      <td>0.139</td>\n",
       "      <td>0.182</td>\n",
       "    </tr>\n",
       "    <tr>\n",
       "      <th>1</th>\n",
       "      <td>LSA</td>\n",
       "      <td>0.223</td>\n",
       "      <td>0.046</td>\n",
       "      <td>0.135</td>\n",
       "      <td>0.174</td>\n",
       "    </tr>\n",
       "    <tr>\n",
       "      <th>2</th>\n",
       "      <td>TextRank</td>\n",
       "      <td>0.241</td>\n",
       "      <td>0.055</td>\n",
       "      <td>0.143</td>\n",
       "      <td>0.186</td>\n",
       "    </tr>\n",
       "    <tr>\n",
       "      <th>3</th>\n",
       "      <td>T5</td>\n",
       "      <td>0.224</td>\n",
       "      <td>0.069</td>\n",
       "      <td>0.182</td>\n",
       "      <td>0.182</td>\n",
       "    </tr>\n",
       "    <tr>\n",
       "      <th>4</th>\n",
       "      <td>BART</td>\n",
       "      <td>0.202</td>\n",
       "      <td>0.059</td>\n",
       "      <td>0.147</td>\n",
       "      <td>0.147</td>\n",
       "    </tr>\n",
       "  </tbody>\n",
       "</table>\n",
       "</div>"
      ],
      "text/plain": [
       "   baseline  rouge1  rouge2  rougeL  rougeLsum\n",
       "0   LexRank   0.225   0.049   0.139      0.182\n",
       "1       LSA   0.223   0.046   0.135      0.174\n",
       "2  TextRank   0.241   0.055   0.143      0.186\n",
       "3        T5   0.224   0.069   0.182      0.182\n",
       "4      BART   0.202   0.059   0.147      0.147"
      ]
     },
     "execution_count": 8,
     "metadata": {},
     "output_type": "execute_result"
    }
   ],
   "source": [
    "sum_baseline_scores = pd.read_csv(path_to_data)\n",
    "sum_baseline_scores.columns = [\"baseline\", \"rouge1\", \"rouge2\", \"rougeL\", \"rougeLsum\"]\n",
    "sum_baseline_scores"
   ]
  },
  {
   "cell_type": "code",
   "execution_count": 20,
   "id": "mexican-intermediate",
   "metadata": {},
   "outputs": [],
   "source": [
    "scores = sum_baseline_scores[[\"rouge1\", \"rouge2\", \"rougeL\", \"rougeLsum\"]]\n",
    "metric_names = sum_baseline_scores.columns[1:].tolist()"
   ]
  },
  {
   "cell_type": "code",
   "execution_count": 44,
   "id": "loved-function",
   "metadata": {},
   "outputs": [
    {
     "data": {
      "image/png": "[encoded data removed]",
      "text/plain": [
       "<Figure size 720x432 with 1 Axes>"
      ]
     },
     "metadata": {
      "needs_background": "light"
     },
     "output_type": "display_data"
    }
   ],
   "source": [
    "x = np.arange(len(metric_names))\n",
    "width=0.15\n",
    "\n",
    "fig, ax = plt.subplots(figsize=(10,6))fig, ax = plt.subplots(figsize=(10,6))\n",
    "\n",
    "ax.bar(x - width*2, sum_baseline_scores.iloc[0, 1:].tolist(), width, label=\"LexRank\")\n",
    "ax.bar(x - width, sum_baseline_scores.iloc[1, 1:].tolist(), width, label=\"LSA\")\n",
    "ax.bar(x, sum_baseline_scores.iloc[2, 1:].tolist(), width, label=\"TextRank\")\n",
    "ax.bar(x + width, sum_baseline_scores.iloc[3, 1:].tolist(), width, label=\"T5\")\n",
    "ax.bar(x + width*2, sum_baseline_scores.iloc[4, 1:].tolist(), width, label=\"BART\")\n",
    "\n",
    "ax.set_title(\"Single-document summarization F-Score mean for baseline models\", fontsize=16, fontweight=\"bold\")\n",
    "ax.set_xticks(x)\n",
    "ax.set_xticklabels(metric_names, fontsize=12)\n",
    "ax.set_ylabel(\"F-Score\", fontsize=14)\n",
    "\n",
    "ax.legend(fontsize=10)\n",
    "\n",
    "fig.tight_layout()\n",
    "plt.show()"
   ]
  },
  {
   "cell_type": "markdown",
   "id": "sonic-iceland",
   "metadata": {},
   "source": [
    "# Até que ponto é que podemos obter um sumário a partir dos tweets que seja semelhante ao sumário obtido da notícia"
   ]
  },
  {
   "cell_type": "markdown",
   "id": "prescription-celtic",
   "metadata": {},
   "source": [
    "Observado o gráfico, repara-se que os _F-Scores_ para os diferentes modelos relativamente a diferentes métricas são todos __baixos__. Os modelos com melhores resultados ao longo das métricas são o __TextRank__ e o __T5__ e mesmo estes não ultrapassam um F-Score de __0.25__.\n",
    "\n",
    "Este F-Score __baixo__ que resulta da __comparação entre sumários__ (do artigo e dos tweets) é um indicador de como as baselines de sumariação não conseguem, a partir de um conjunto de tweets relacionados com um evento, fazer um sumário que se assemelhe ao sumário do tópico.\n",
    "\n",
    "O exemplo seguinte mostra as diferenças entre os dois sumários sobre o primeiro tópico utilizando o modelo __TextRank__:"
   ]
  },
  {
   "cell_type": "code",
   "execution_count": 78,
   "id": "variable-diana",
   "metadata": {},
   "outputs": [
    {
     "name": "stdout",
     "output_type": "stream",
     "text": [
      "Topic Summary:\n",
      "A would-be hit-and-run driver who allegedly struck a woman in Miami was taken into custody after witnesses chased him down early Sunday.\n",
      "The car hit the young woman.\n",
      "A drunk driver and he hit an innocent person, the woman said.\n",
      "\n",
      "Tweets summary:\n",
      "Troopers: Hit and run suspect leads 100+ mph chase with infant in the car     #EJI Hit-and–run Mercedes-Benz driver falls in car chase    Driver charged with murder in alleged intentional hit-and-run of Michigan firefighter     Drunk driver arrested following 204km/h chase     Did the driver stop, or is this a hit-and-run situation.\n",
      "Police have the vehcile, and alleged driver in custody..   Police say theyve located the vehicle and driver in a hit and run at Danforth and Donlands..   Pedestrian killed in hit-and-run in Clarksburg; alleged driver questioned  #fox5dc    #BSO traffic homicide investigators are looking for the hit-and-run driver who struck and killed a man early...\n",
      "\n"
     ]
    }
   ],
   "source": [
    "print(\"Topic Summary:\")\n",
    "print(baseline_data[\"TextRank\"][0][\"single_document\"][\"topic_summary\"])\n",
    "print(\"\\nTweets summary:\")\n",
    "print(baseline_data[\"TextRank\"][0][\"single_document\"][\"tweets_summary\"])\n",
    "print()"
   ]
  },
  {
   "cell_type": "markdown",
   "id": "objective-pierre",
   "metadata": {},
   "source": [
    "Como seria de esperar, as diferenças são notáveis. O resumo dos tweets tem informações sobre o tópico geral do acontecimento (__hit-and-run__), mas não sobre o evento específico descrito no artigo (__a man hit-and-run a woman in Miami__)."
   ]
  },
  {
   "cell_type": "markdown",
   "id": "amino-george",
   "metadata": {},
   "source": [
    "## Resposta:\n",
    "É possível obter um sumário dos tweets que descreve a notícia, no entanto o modelo terá de __lidar muito bem com ruído__, visto que há muito tweets sobre o tema geral que não são sobre o evento epecífico. As baselines mostram que há muito por onde crescer neste tema, visto que não conseguem produzir um sumário que represente bem a notícia."
   ]
  },
  {
   "cell_type": "markdown",
   "id": "corporate-frame",
   "metadata": {},
   "source": [
    "# Até que ponto é que podemos obter um sumário a partir dos tweets que seja semelhante à notícia"
   ]
  },
  {
   "cell_type": "markdown",
   "id": "several-lyric",
   "metadata": {},
   "source": [
    "Neste dataset, é notável que certas notícias são muito difíceis de resumir, devido à especificidade da própria notícia e o facto de não existirem (ou existirem poucos) tweets diretamente relacionados com a mesma.\n",
    "\n",
    "No entanto, também existem várias notícias (com uma quantidade maior de tweets associados) que são possíveis de se resumir a partir de tweets, como é o exemplo da notícias seguinte."
   ]
  },
  {
   "cell_type": "code",
   "execution_count": 110,
   "id": "rising-boards",
   "metadata": {},
   "outputs": [
    {
     "name": "stdout",
     "output_type": "stream",
     "text": [
      "Article content:\n",
      "EVIAN, France, Sept 13 AFP - New Zealands Lydia Ko wrote another chapter of golfing history on Sunday when she became the youngest winner of a womens major with a stunning final round 63 at the Evian Championship.\n",
      " Sundays flawless eight-birdie round was the lowest score of the week and she finished on 268, 16 under par and six ahead of American Lexi Thompson (70). Chinas Feng Shanshan also shot 70 and was third on eight under.\n",
      " Ko is 18 years 142 days - 171 days younger than Morgan Pressel when she won the 2007 Kraft Nabisco Championship.\n",
      " Back in February, aged 17, Ko became the youngest player to claim the world No. 1 ranking, although the Evian victory still leaves her at No.2 behind South Koreas Inbee Park.\n",
      " She also holds the record as the youngest winner on the LPGA Tour, the first of her nine wins coming as a 15-year-old amateur at the 2012 Canadian Open.\n",
      " At Evian on Sunday Australias Minjee Lee (72) was tied for 11th, 12 shots behind the leader while Karrie Webb (72) was 19 shots back tied for 38th.\n",
      " Ko, who finished second at Evian two years ago, was thrilled to achieve her dream of a first major title.\n",
      " Overcome with emotion, she came close to tears after holing the last of her eight birdie putts on the 18th.\n",
      " Its pretty amazing, she said.\n",
      " This has been an awesome day and an unbelievable experience. Everyone has been asking me when I was going to win my fist major, and now its done. Its so hard to get your hands on the first one.\n",
      " With a five-shot lead coming down the last, she was able to savour the experience and appreciate the crowd support.\n",
      " Jason (her caddie) told me to enjoy the moment and thats when I could feel the tears coming. It was quite overwhelming and also a bit of a relief, she continued.\n",
      " Winning a major at any age is special, but to become the youngest is pretty cool. Its also nice that it is over - no one will ask me about it again.\n",
      " Ko started the final round two shots behind South Koreas Mi-Hyang Lee, who finished joint fourth with a 74, and was three behind Thompson after seven holes.\n",
      " But she birdied four holes between the seventh and 12th to take the lead and edged three ahead when Thompson, over the back and in deep rough from the tee, took a double-bogey five at the short 14th.\n",
      " The final few holes were a victory stroll. An up-and-down birdie at the long 15th stretched the lead to four, then it was five thanks to a 20-foot birdie putt at the 17th and six when she holed another 20-footer at the last.\n",
      " Park, winner of two majors this season, had a fine final round of 68 to finish just inside the top ten on five under par. The South Korean won the Evian title in 2012, the year before it became a major.\n",
      " This was Kos fourth win of the year and now she will spend a few weeks at her home with her family in Orlando, Florida, before heading for the LPGAs Asia swing next month.\n",
      " And new targets\n",
      " My next goal is the Olympics, she said after pocketing the 430,000 ($A684,500) winners cheque.\n",
      " Rio is less than a year away and I really want to do it.\n",
      " As soon as I knew golf was in the Olympics I wanted to be part of it and play for New Zealand. I love representing my country..\n",
      "\n",
      "Tweets related to article: (relevancy = 2)\n",
      "Lydia Ko off to a solid start at Evian Championship    \n",
      "Lydia Kos drawing on past experience in her bid to lift her first major trophy ahead of final round of Evian Championship at Lake Geneva..  \n",
      "Lydia Ko wins Evian Championship to become youngest major champion    \n",
      "Teenager Ko makes history with Evian win    \n",
      "Lydia Ko becomes youngest ever winner of a major at the Evian…  via    \n",
      "World No.2 Lydia Ko (18) became the youngest winner of a LPGA major with a 6-shot victory over Lexi Thompson at the Evian Championship.  \n",
      "Lydia Ko records first ever Major title overnight, youngest ever Major winner    \n",
      "Kiwi golfer  fired a bogey-free eight-under 63 to become the youngest winner of a womens major at the Evian Championship in France..  \n",
      "Teenager Ko makes history with Evian win   \n",
      "Lydia Ko takes scintillating major win in her stride    \n",
      "Teenager Lydia Ko makes history at Evian.  #golf   \n",
      "Lydia Ko says she was spurred on to her major triumph by a vocal young fan during the weekend    \n",
      "Ko wins Evian Championship, becomes youngest major champion: EVIAN-LES-BAINS, France -- With two holes left to...   \n",
      "18-year-old Lydia Ko wins Evian Championship to become youngest LPGA major champion.   \n",
      "Amazing teen golfer Lydia Ko hailed over major record    \n",
      "Ko makes history with Evian win    \n",
      "New Zealand golfer Lydia Ko already looking ahead to Rio Olympics after major success    \n",
      "Teenager Lydia Ko poised for golfing riches after Evian Championship win    \n",
      " Lydia Ko not even a mention.  \n",
      "\n"
     ]
    }
   ],
   "source": [
    "print(\"Article content:\")\n",
    "print(tweetir_data.loc[tweetir_data[\"topic\"] == \"5811057c-6732-4b37-b04c-ddf0a75a7b51\", \"topics.content\"].unique()[0].replace(\"  \", \"\\n\"))\n",
    "print(\"Tweets related to article: (relevancy = 2)\")\n",
    "for text in tweetir_data.loc[(tweetir_data[\"topic\"] == \"5811057c-6732-4b37-b04c-ddf0a75a7b51\") & (tweetir_data[\"relevancy\"] >= 2), \"tweets.full_text\"]:\n",
    "    print(text)\n",
    "print()"
   ]
  },
  {
   "cell_type": "markdown",
   "id": "uniform-manufacturer",
   "metadata": {},
   "source": [
    "A seguinte notícia fala de uma jogadora de golf nova zelandesa de 18 anos que ganhou pela primeira vez o campeonato feminino de golf em Evian na França. <br/>\n",
    "Como este foi um acontecimento bastante falado, existem __bastantes tweets associados a esta notícia__ e, é possível verificar que a partir dos tweets existentes seria possível obter um resumo que se assemelhasse à notícia."
   ]
  },
  {
   "cell_type": "markdown",
   "id": "bigger-matter",
   "metadata": {},
   "source": [
    "## Reposta:\n",
    "__É possível__ obter um sumário dos tweets que seja semelhante à notícia, mas apenas quando temos dados relevantes suficientes.<br/> A existência de ruído é normal, mas algumas notícias têm apenas tweets de ruídos, __para essas não será possível__ obter um resumo. Para as restantes será possível fazê-lo."
   ]
  }
 ],
 "metadata": {
  "kernelspec": {
   "display_name": "Python 3.8 (T2S)",
   "language": "python",
   "name": "tweet2story"
  },
  "language_info": {
   "codemirror_mode": {
    "name": "ipython",
    "version": 3
   },
   "file_extension": ".py",
   "mimetype": "text/x-python",
   "name": "python",
   "nbconvert_exporter": "python",
   "pygments_lexer": "ipython3",
   "version": "3.8.5"
  }
 },
 "nbformat": 4,
 "nbformat_minor": 5
}
