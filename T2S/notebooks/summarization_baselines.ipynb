{
 "cells": [
  {
   "cell_type": "code",
   "execution_count": 3,
   "id": "thrown-symbol",
   "metadata": {},
   "outputs": [],
   "source": [
    "# Essentials\n",
    "import pandas as pd\n",
    "import numpy as np\n",
    "import json\n",
    "import os\n",
    "from pathlib import Path\n",
    "\n",
    "# Visualization\n",
    "import matplotlib.pyplot as plt"
   ]
  },
  {
   "cell_type": "code",
   "execution_count": 6,
   "id": "wrong-frank",
   "metadata": {},
   "outputs": [
    {
     "name": "stdout",
     "output_type": "stream",
     "text": [
      "C:\\Users\\HP\\Desktop\\Tese\\Dissertacao\\Pratica\\Tweet2Story\\T2S\n"
     ]
    }
   ],
   "source": [
    "# working directory\n",
    "ROOT_DIR = Path(os.path.abspath('')).parent\n",
    "RESULTS_DIR = os.path.join(ROOT_DIR, \"resultfiles\", \"baselines\", \"summarization\")\n",
    "print(ROOT_DIR)"
   ]
  },
  {
   "cell_type": "code",
   "execution_count": 32,
   "id": "concerned-trial",
   "metadata": {},
   "outputs": [
    {
     "data": {
      "text/plain": "   baseline  rouge1  rouge2  rougeL  rougeLsum\n0   LexRank    22.9     6.1    15.7       19.7\n1       LSA    21.3     4.6    13.5       17.6\n2  TextRank    24.4     6.3    16.0       20.5\n3        T5    24.8     6.9    19.0       19.0\n4      BART    18.6     4.7    14.3       14.3",
      "text/html": "<div>\n<style scoped>\n    .dataframe tbody tr th:only-of-type {\n        vertical-align: middle;\n    }\n\n    .dataframe tbody tr th {\n        vertical-align: top;\n    }\n\n    .dataframe thead th {\n        text-align: right;\n    }\n</style>\n<table border=\"1\" class=\"dataframe\">\n  <thead>\n    <tr style=\"text-align: right;\">\n      <th></th>\n      <th>baseline</th>\n      <th>rouge1</th>\n      <th>rouge2</th>\n      <th>rougeL</th>\n      <th>rougeLsum</th>\n    </tr>\n  </thead>\n  <tbody>\n    <tr>\n      <th>0</th>\n      <td>LexRank</td>\n      <td>22.9</td>\n      <td>6.1</td>\n      <td>15.7</td>\n      <td>19.7</td>\n    </tr>\n    <tr>\n      <th>1</th>\n      <td>LSA</td>\n      <td>21.3</td>\n      <td>4.6</td>\n      <td>13.5</td>\n      <td>17.6</td>\n    </tr>\n    <tr>\n      <th>2</th>\n      <td>TextRank</td>\n      <td>24.4</td>\n      <td>6.3</td>\n      <td>16.0</td>\n      <td>20.5</td>\n    </tr>\n    <tr>\n      <th>3</th>\n      <td>T5</td>\n      <td>24.8</td>\n      <td>6.9</td>\n      <td>19.0</td>\n      <td>19.0</td>\n    </tr>\n    <tr>\n      <th>4</th>\n      <td>BART</td>\n      <td>18.6</td>\n      <td>4.7</td>\n      <td>14.3</td>\n      <td>14.3</td>\n    </tr>\n  </tbody>\n</table>\n</div>"
     },
     "execution_count": 32,
     "metadata": {},
     "output_type": "execute_result"
    }
   ],
   "source": [
    "def round_up(x):\n",
    "    return x.apply(lambda x: round(x * 100, 2))\n",
    "\n",
    "sum_baseline_fscores = pd.read_csv(os.path.join(RESULTS_DIR, \"mean_sum_baselines_fscores.csv\"))\n",
    "sum_baseline_fscores.columns = [\"baseline\", \"rouge1\", \"rouge2\", \"rougeL\", \"rougeLsum\"]\n",
    "sum_baseline_fscores[[\"rouge1\", \"rouge2\", \"rougeL\", \"rougeLsum\"]] = sum_baseline_fscores[[\"rouge1\", \"rouge2\", \"rougeL\", \"rougeLsum\"]].apply(round_up)\n",
    "sum_baseline_fscores"
   ]
  },
  {
   "cell_type": "code",
   "execution_count": 9,
   "outputs": [
    {
     "data": {
      "text/plain": "   baseline  rouge1  rouge2  rougeL  rougeLsum\n0   LexRank   0.166   0.044   0.113      0.143\n1       LSA   0.153   0.034   0.096      0.126\n2  TextRank   0.180   0.045   0.117      0.151\n3        T5   0.214   0.059   0.163      0.163\n4      BART   0.158   0.040   0.121      0.121",
      "text/html": "<div>\n<style scoped>\n    .dataframe tbody tr th:only-of-type {\n        vertical-align: middle;\n    }\n\n    .dataframe tbody tr th {\n        vertical-align: top;\n    }\n\n    .dataframe thead th {\n        text-align: right;\n    }\n</style>\n<table border=\"1\" class=\"dataframe\">\n  <thead>\n    <tr style=\"text-align: right;\">\n      <th></th>\n      <th>baseline</th>\n      <th>rouge1</th>\n      <th>rouge2</th>\n      <th>rougeL</th>\n      <th>rougeLsum</th>\n    </tr>\n  </thead>\n  <tbody>\n    <tr>\n      <th>0</th>\n      <td>LexRank</td>\n      <td>0.166</td>\n      <td>0.044</td>\n      <td>0.113</td>\n      <td>0.143</td>\n    </tr>\n    <tr>\n      <th>1</th>\n      <td>LSA</td>\n      <td>0.153</td>\n      <td>0.034</td>\n      <td>0.096</td>\n      <td>0.126</td>\n    </tr>\n    <tr>\n      <th>2</th>\n      <td>TextRank</td>\n      <td>0.180</td>\n      <td>0.045</td>\n      <td>0.117</td>\n      <td>0.151</td>\n    </tr>\n    <tr>\n      <th>3</th>\n      <td>T5</td>\n      <td>0.214</td>\n      <td>0.059</td>\n      <td>0.163</td>\n      <td>0.163</td>\n    </tr>\n    <tr>\n      <th>4</th>\n      <td>BART</td>\n      <td>0.158</td>\n      <td>0.040</td>\n      <td>0.121</td>\n      <td>0.121</td>\n    </tr>\n  </tbody>\n</table>\n</div>"
     },
     "execution_count": 9,
     "metadata": {},
     "output_type": "execute_result"
    }
   ],
   "source": [
    "sum_baseline_recall = pd.read_csv(os.path.join(RESULTS_DIR, \"mean_sum_baselines_recall.csv\"))\n",
    "sum_baseline_recall.columns = [\"baseline\", \"rouge1\", \"rouge2\", \"rougeL\", \"rougeLsum\"]\n",
    "sum_baseline_recall"
   ],
   "metadata": {
    "collapsed": false,
    "pycharm": {
     "name": "#%%\n"
    }
   }
  },
  {
   "cell_type": "code",
   "execution_count": 10,
   "id": "mexican-intermediate",
   "metadata": {},
   "outputs": [],
   "source": [
    "scores = sum_baseline_fscores[[\"rouge1\", \"rouge2\", \"rougeL\", \"rougeLsum\"]]\n",
    "metric_names = sum_baseline_fscores.columns[1:].tolist()"
   ]
  },
  {
   "cell_type": "code",
   "execution_count": 33,
   "id": "loved-function",
   "metadata": {},
   "outputs": [
    {
     "data": {
      "text/plain": "<Figure size 864x432 with 1 Axes>",
      "image/png": "[encoded data removed]"
     },
     "metadata": {
      "needs_background": "light"
     },
     "output_type": "display_data"
    }
   ],
   "source": [
    "x = np.arange(len(metric_names))\n",
    "width=0.15\n",
    "\n",
    "fig, ax = plt.subplots(figsize=(12,6))\n",
    "\n",
    "ax.bar(x - width*2, sum_baseline_fscores.iloc[0, 1:].tolist(), width, label=\"LexRank\")\n",
    "ax.bar(x - width, sum_baseline_fscores.iloc[1, 1:].tolist(), width, label=\"LSA\")\n",
    "ax.bar(x, sum_baseline_fscores.iloc[2, 1:].tolist(), width, label=\"TextRank\")\n",
    "ax.bar(x + width, sum_baseline_fscores.iloc[3, 1:].tolist(), width, label=\"T5\")\n",
    "ax.bar(x + width*2, sum_baseline_fscores.iloc[4, 1:].tolist(), width, label=\"BART\")\n",
    "\n",
    "ax.set_title(\"Similarity between summaries of pairs news/tweets\", fontsize=16, fontweight=\"bold\")\n",
    "ax.set_xticks(x)\n",
    "ax.set_xticklabels(metric_names, fontsize=13)\n",
    "ax.set_ylabel(\"F-Score (%)\", fontsize=13)\n",
    "\n",
    "ax.legend(bbox_to_anchor=(1, 1), title=r\"$\\bf{baselines}$\", title_fontsize=13, fontsize=11)\n",
    "\n",
    "fig.tight_layout()\n",
    "plt.show()"
   ]
  },
  {
   "cell_type": "markdown",
   "id": "sonic-iceland",
   "metadata": {},
   "source": [
    "# Até que ponto é que podemos obter um sumário a partir dos tweets que seja semelhante ao sumário obtido da notícia"
   ]
  },
  {
   "cell_type": "markdown",
   "id": "prescription-celtic",
   "metadata": {},
   "source": [
    "Observado o gráfico, repara-se que os _F-Scores_ para os diferentes modelos relativamente a diferentes métricas são todos __baixos__. Os modelos com melhores resultados ao longo das métricas são o __TextRank__ e o __T5__ e mesmo estes não ultrapassam um F-Score de __0.25__.\n",
    "\n",
    "Este F-Score __baixo__ que resulta da __comparação entre sumários__ (do artigo e dos tweets) é um indicador de como as baselines de sumariação não conseguem, a partir de um conjunto de tweets relacionados com um evento, fazer um sumário que se assemelhe ao sumário do tópico.\n",
    "\n",
    "O exemplo seguinte mostra as diferenças entre os dois sumários sobre o primeiro tópico utilizando o modelo __TextRank__:"
   ]
  },
  {
   "cell_type": "code",
   "execution_count": null,
   "id": "variable-diana",
   "metadata": {},
   "outputs": [],
   "source": [
    "# print(\"Topic Summary:\")\n",
    "# print(baseline_data[\"TextRank\"][0][\"single_document\"][\"topic_summary\"])\n",
    "# print(\"\\nTweets summary:\")\n",
    "# print(baseline_data[\"TextRank\"][0][\"single_document\"][\"tweets_summary\"])\n",
    "# print()"
   ]
  },
  {
   "cell_type": "markdown",
   "id": "objective-pierre",
   "metadata": {},
   "source": [
    "Como seria de esperar, as diferenças são notáveis. O resumo dos tweets tem informações sobre o tópico geral do acontecimento (__hit-and-run__), mas não sobre o evento específico descrito no artigo (__a man hit-and-run a woman in Miami__)."
   ]
  },
  {
   "cell_type": "markdown",
   "id": "amino-george",
   "metadata": {},
   "source": [
    "## Resposta:\n",
    "É possível obter um sumário dos tweets que descreve a notícia, no entanto o modelo terá de __lidar muito bem com ruído__, visto que há muito tweets sobre o tema geral que não são sobre o evento epecífico. As baselines mostram que há muito por onde crescer neste tema, visto que não conseguem produzir um sumário que represente bem a notícia."
   ]
  },
  {
   "cell_type": "markdown",
   "id": "corporate-frame",
   "metadata": {},
   "source": [
    "# Até que ponto é que podemos obter um sumário a partir dos tweets que seja semelhante à notícia"
   ]
  },
  {
   "cell_type": "markdown",
   "id": "several-lyric",
   "metadata": {},
   "source": [
    "Neste dataset, é notável que certas notícias são muito difíceis de resumir, devido à especificidade da própria notícia e o facto de não existirem (ou existirem poucos) tweets diretamente relacionados com a mesma.\n",
    "\n",
    "No entanto, também existem várias notícias (com uma quantidade maior de tweets associados) que são possíveis de se resumir a partir de tweets, como é o exemplo da notícias seguinte."
   ]
  },
  {
   "cell_type": "code",
   "execution_count": null,
   "id": "rising-boards",
   "metadata": {},
   "outputs": [],
   "source": [
    "# print(\"Article content:\")\n",
    "# print(tweetir_data.loc[tweetir_data[\"topic\"] == \"5811057c-6732-4b37-b04c-ddf0a75a7b51\", \"topics.content\"].unique()[0].replace(\"  \", \"\\n\"))\n",
    "# print(\"Tweets related to article: (relevancy = 2)\")\n",
    "# for text in tweetir_data.loc[(tweetir_data[\"topic\"] == \"5811057c-6732-4b37-b04c-ddf0a75a7b51\") & (tweetir_data[\"relevancy\"] >= 2), \"tweets.full_text\"]:\n",
    "#     print(text)\n",
    "# print()"
   ]
  },
  {
   "cell_type": "markdown",
   "id": "uniform-manufacturer",
   "metadata": {},
   "source": [
    "A seguinte notícia fala de uma jogadora de golf nova zelandesa de 18 anos que ganhou pela primeira vez o campeonato feminino de golf em Evian na França. <br/>\n",
    "Como este foi um acontecimento bastante falado, existem __bastantes tweets associados a esta notícia__ e, é possível verificar que a partir dos tweets existentes seria possível obter um resumo que se assemelhasse à notícia."
   ]
  },
  {
   "cell_type": "markdown",
   "id": "bigger-matter",
   "metadata": {},
   "source": [
    "## Reposta:\n",
    "__É possível__ obter um sumário dos tweets que seja semelhante à notícia, mas apenas quando temos dados relevantes suficientes.<br/> A existência de ruído é normal, mas algumas notícias têm apenas tweets de ruídos, __para essas não será possível__ obter um resumo. Para as restantes será possível fazê-lo."
   ]
  }
 ],
 "metadata": {
  "kernelspec": {
   "display_name": "Python 3.8 (T2S)",
   "language": "python",
   "name": "tweet2story"
  },
  "language_info": {
   "codemirror_mode": {
    "name": "ipython",
    "version": 3
   },
   "file_extension": ".py",
   "mimetype": "text/x-python",
   "name": "python",
   "nbconvert_exporter": "python",
   "pygments_lexer": "ipython3",
   "version": "3.8.5"
  }
 },
 "nbformat": 4,
 "nbformat_minor": 5
}